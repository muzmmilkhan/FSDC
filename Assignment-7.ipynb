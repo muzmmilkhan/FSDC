{
 "cells": [
  {
   "cell_type": "markdown",
   "id": "be82ba27",
   "metadata": {},
   "source": [
    "Q.1. Create two int type variables, apply addition, subtraction, division and multiplications\n",
    "and store the results in variables. Then print the data in the following format by calling the\n",
    "### variables:\n",
    "        - First variable is __ & second variable is __.\n",
    "        - Addition: __ + __ = __\n",
    "        - Subtraction: __ - __ = __\n",
    "        - Multiplication: __ * __ = __\n",
    "        - Division: __ / __ = __"
   ]
  },
  {
   "cell_type": "code",
   "execution_count": 1,
   "id": "acca2d17",
   "metadata": {},
   "outputs": [
    {
     "name": "stdout",
     "output_type": "stream",
     "text": [
      "First variable is 10 & second variable is 2.\n",
      "Addition: 10 + 2 = 12\n",
      "Subtraction: 10 - 2 = 8\n",
      "Multiplication: 10 * 2 = 20\n",
      "Division: 10 / 2 = 5.0\n"
     ]
    }
   ],
   "source": [
    "var1 = 10\n",
    "var2 = 2\n",
    "\n",
    "print(f\"First variable is {var1} & second variable is {var2}.\")\n",
    "print(f\"Addition: {var1} + {var2} = {var1 + var2}\")\n",
    "print(f\"Subtraction: {var1} - {var2} = {var1 - var2}\")\n",
    "print(f\"Multiplication: {var1} * {var2} = {var1 * var2}\")\n",
    "print(f\"Division: {var1} / {var2} = {var1/var2}\")"
   ]
  },
  {
   "cell_type": "markdown",
   "id": "7a998dba",
   "metadata": {},
   "source": [
    "Q.2. What is the difference between the following operators:\n",
    "- (i) ‘/’ & ‘//’\n",
    "- (ii) ‘**’ & ‘^’"
   ]
  },
  {
   "cell_type": "code",
   "execution_count": 2,
   "id": "0de0d02d",
   "metadata": {},
   "outputs": [
    {
     "name": "stdout",
     "output_type": "stream",
     "text": [
      "5.0\n"
     ]
    }
   ],
   "source": [
    "# / is a mathamatical division operator which return value in float.\n",
    "print(10/2)"
   ]
  },
  {
   "cell_type": "code",
   "execution_count": 4,
   "id": "d685ba08",
   "metadata": {},
   "outputs": [
    {
     "name": "stdout",
     "output_type": "stream",
     "text": [
      "5\n"
     ]
    }
   ],
   "source": [
    "# // is also know as floor devision it mathamatical division operator which return value in int.\n",
    "print(10//2)"
   ]
  },
  {
   "cell_type": "code",
   "execution_count": 5,
   "id": "7382862d",
   "metadata": {},
   "outputs": [
    {
     "name": "stdout",
     "output_type": "stream",
     "text": [
      "4\n"
     ]
    }
   ],
   "source": [
    "# ** is a mathmatical exponantial operator which we use to find the power of n number\n",
    "print(2**2)"
   ]
  },
  {
   "cell_type": "code",
   "execution_count": 9,
   "id": "870e43e7",
   "metadata": {},
   "outputs": [
    {
     "data": {
      "text/plain": [
       "1"
      ]
     },
     "execution_count": 9,
     "metadata": {},
     "output_type": "execute_result"
    }
   ],
   "source": [
    "# ** is a mathmatical  operator which we use to find the reminder \n",
    "2^3"
   ]
  },
  {
   "cell_type": "markdown",
   "id": "00823a01",
   "metadata": {},
   "source": [
    "Q.3. List the logical operators."
   ]
  },
  {
   "cell_type": "markdown",
   "id": "8c0051c4",
   "metadata": {},
   "source": [
    "- and : To perform and operation where if any one of the value is False/0 than it return False else True\n",
    "- or  : To perform or operation where if any one of the value is True/1 than it return True else False\n",
    "- not : To convert True to False and visa versa.\n",
    "- <<  : To perform left bitwise shift\n",
    "- `>>`  : To Perform Right bitwise Shift"
   ]
  },
  {
   "cell_type": "markdown",
   "id": "595eb06c",
   "metadata": {},
   "source": [
    "Q.4. Explain right shift operator and left shift operator with examples."
   ]
  },
  {
   "cell_type": "code",
   "execution_count": 13,
   "id": "461adb78",
   "metadata": {},
   "outputs": [
    {
     "name": "stdout",
     "output_type": "stream",
     "text": [
      "a << 1 = 42\n"
     ]
    }
   ],
   "source": [
    "#Both the left and Right shift operator used to shift the bit to right or left below are the some example\n",
    "# Left Shift Example\n",
    "a = 21  # Binary: 00010101\n",
    "result = a << 1  # Binary: 00101010, Decimal: 42\n",
    "print(\"a << 1 =\", result)\n"
   ]
  },
  {
   "cell_type": "code",
   "execution_count": 14,
   "id": "0d5d76a4",
   "metadata": {},
   "outputs": [
    {
     "name": "stdout",
     "output_type": "stream",
     "text": [
      "a >> 2 = 5\n"
     ]
    }
   ],
   "source": [
    "# Right Shift Example\n",
    "a = 21  # Binary: 00010101\n",
    "result = a >> 2  # Binary: 00000101, Decimal: 5\n",
    "print(\"a >> 2 =\", result)\n"
   ]
  },
  {
   "cell_type": "markdown",
   "id": "5526d7a9",
   "metadata": {},
   "source": [
    "Q.5. Create a list containing int type data of length 15. Then write a code to check if 10 is\n",
    "present in the list or not."
   ]
  },
  {
   "cell_type": "code",
   "execution_count": 21,
   "id": "b58cc189",
   "metadata": {},
   "outputs": [],
   "source": [
    "lst = [1,2,3,4,5,6,7,8,9,10,11,12,13,14,15]"
   ]
  },
  {
   "cell_type": "code",
   "execution_count": 22,
   "id": "b5062d51",
   "metadata": {},
   "outputs": [
    {
     "data": {
      "text/plain": [
       "15"
      ]
     },
     "execution_count": 22,
     "metadata": {},
     "output_type": "execute_result"
    }
   ],
   "source": [
    "len(lst)"
   ]
  },
  {
   "cell_type": "code",
   "execution_count": 27,
   "id": "6815032f",
   "metadata": {},
   "outputs": [
    {
     "name": "stdout",
     "output_type": "stream",
     "text": [
      "10 is not available in the list\n",
      "10 is not available in the list\n",
      "10 is not available in the list\n",
      "10 is not available in the list\n",
      "10 is not available in the list\n",
      "10 is not available in the list\n",
      "10 is not available in the list\n",
      "10 is not available in the list\n",
      "10 is not available in the list\n",
      "10 is available in the list at index 9\n",
      "10 is not available in the list\n",
      "10 is not available in the list\n",
      "10 is not available in the list\n",
      "10 is not available in the list\n",
      "10 is not available in the list\n"
     ]
    }
   ],
   "source": [
    "for i in lst:\n",
    "    if i == 10:\n",
    "        print(f'10 is available in the list at index {lst.index(i)}')\n",
    "    else:\n",
    "        print(\"10 is not available in the list\")"
   ]
  },
  {
   "cell_type": "code",
   "execution_count": null,
   "id": "851a524b",
   "metadata": {},
   "outputs": [],
   "source": []
  }
 ],
 "metadata": {
  "kernelspec": {
   "display_name": "Python 3",
   "language": "python",
   "name": "python3"
  },
  "language_info": {
   "codemirror_mode": {
    "name": "ipython",
    "version": 3
   },
   "file_extension": ".py",
   "mimetype": "text/x-python",
   "name": "python",
   "nbconvert_exporter": "python",
   "pygments_lexer": "ipython3",
   "version": "3.10.18"
  }
 },
 "nbformat": 4,
 "nbformat_minor": 5
}
