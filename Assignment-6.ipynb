{
 "cells": [
  {
   "cell_type": "markdown",
   "id": "469d3df8",
   "metadata": {},
   "source": [
    "# Python Basic - 1"
   ]
  },
  {
   "cell_type": "markdown",
   "id": "091eef6d",
   "metadata": {},
   "source": [
    "Q.1. What are keywords in python? Using the keyword library, print all the python keywords."
   ]
  },
  {
   "cell_type": "code",
   "execution_count": 5,
   "id": "baecae85",
   "metadata": {},
   "outputs": [
    {
     "data": {
      "text/plain": [
       "['False',\n",
       " 'None',\n",
       " 'True',\n",
       " 'and',\n",
       " 'as',\n",
       " 'assert',\n",
       " 'async',\n",
       " 'await',\n",
       " 'break',\n",
       " 'class',\n",
       " 'continue',\n",
       " 'def',\n",
       " 'del',\n",
       " 'elif',\n",
       " 'else',\n",
       " 'except',\n",
       " 'finally',\n",
       " 'for',\n",
       " 'from',\n",
       " 'global',\n",
       " 'if',\n",
       " 'import',\n",
       " 'in',\n",
       " 'is',\n",
       " 'lambda',\n",
       " 'nonlocal',\n",
       " 'not',\n",
       " 'or',\n",
       " 'pass',\n",
       " 'raise',\n",
       " 'return',\n",
       " 'try',\n",
       " 'while',\n",
       " 'with',\n",
       " 'yield']"
      ]
     },
     "execution_count": 5,
     "metadata": {},
     "output_type": "execute_result"
    }
   ],
   "source": [
    "import keyword\n",
    "keyword.kwlist"
   ]
  },
  {
   "cell_type": "markdown",
   "id": "68350da6",
   "metadata": {},
   "source": [
    "['False',\n",
    " 'None',\n",
    " 'True',\n",
    " 'and',\n",
    " 'as',\n",
    " 'assert',\n",
    " 'async',\n",
    " 'await',\n",
    " 'break',\n",
    " 'class',\n",
    " 'continue',\n",
    " 'def',\n",
    " 'del',\n",
    " 'elif',\n",
    " 'else',\n",
    " 'except',\n",
    " 'finally',\n",
    " 'for',\n",
    " 'from',\n",
    " 'global',\n",
    " 'if',\n",
    " 'import',\n",
    " 'in',\n",
    " 'is',\n",
    " 'lambda',\n",
    "...\n",
    " 'return',\n",
    " 'try',\n",
    " 'while',\n",
    " 'with',\n",
    " 'yield']"
   ]
  },
  {
   "cell_type": "markdown",
   "id": "a8598c7d",
   "metadata": {},
   "source": [
    "Q.2. What are the rules to create variables in python?\n",
    "\n",
    "Answer: \n",
    "1. The variables can not start with Digit.\n",
    "    - 123abc = 5\n",
    "2. The variables can not containt special charactor.\n",
    "    - @we = 5\n",
    "    - $20= 20\n",
    "3. The variables can start with a char or  _ .\n",
    "    - foo = 23\n",
    "    - _bar = 'bar'\n",
    "4. The variables can have digite after the char.\n",
    "    - b2b = 'b2b'\n",
    "5. The variables can not declare with inbult keywords.\n",
    "    - finally = 2\n"
   ]
  },
  {
   "cell_type": "markdown",
   "id": "b7e9fcb0",
   "metadata": {},
   "source": [
    "Q.3. What are the standards and conventions followed for the nomenclature of variables in\n",
    "python to improve code readability and maintainability?\n",
    "\n",
    "Ans:\n",
    "Naming Styles:\n",
    "- snake\\_case:\n",
    "Lowercase words separated by underscores (e.g., my_variable, calculate_area).\n",
    "Used for variable names, function names, method names, module names, and package names.\n",
    "\n",
    "- CamelCase (or CapWords):\n",
    "Words are capitalized without underscores (e.g., MyClass, MyFunction).\n",
    "Used for class names.\n",
    "UPPER\\_CASE\\_WITH\\_UNDERSCORES:\n",
    "Uppercase words separated by underscores (e.g., MAX_VALUE, PI).\n",
    "Used for constants.\n",
    "\n",
    "- MixedCase:\n",
    "Used to conform to pre-existing conventions, otherwise avoid.\n",
    "    - Single Underscore Prefix (\\_):\n",
    "Indicates a name is intended for internal use within a module or class (e.g., _internal_variable).\n",
    "Python does not enforce this, but it signals to other developers.\n",
    "        - Double Underscore Prefix (\\_\\_):\n",
    "Triggers name mangling in classes, which makes the name less accessible from outside the class (e.g., __private_attribute).\n",
    "Used for private attributes or methods in classes.\n",
    "- Single Letter Names:\n",
    "Generally avoided except for counters or iterators in loops (e.g., i, j)."
   ]
  },
  {
   "cell_type": "markdown",
   "id": "284ad2ab",
   "metadata": {},
   "source": [
    "Q.4. What will happen if a keyword is used as a variable name?"
   ]
  },
  {
   "cell_type": "code",
   "execution_count": 4,
   "id": "78401d34",
   "metadata": {},
   "outputs": [
    {
     "ename": "SyntaxError",
     "evalue": "invalid syntax (4139559484.py, line 2)",
     "output_type": "error",
     "traceback": [
      "\u001b[0;36m  Cell \u001b[0;32mIn[4], line 2\u001b[0;36m\u001b[0m\n\u001b[0;31m    finally = 10\u001b[0m\n\u001b[0m    ^\u001b[0m\n\u001b[0;31mSyntaxError\u001b[0m\u001b[0;31m:\u001b[0m invalid syntax\n"
     ]
    }
   ],
   "source": [
    "# if we use the keyword as a variable name than we get an error SyntaxError: invalid syntax\n",
    "finally = 10"
   ]
  },
  {
   "cell_type": "markdown",
   "id": "05501bb3",
   "metadata": {},
   "source": [
    "Q.5. For what purpose def keyword is used?\n",
    "- Ans:\n",
    "We use def keyword to create or define a function "
   ]
  },
  {
   "cell_type": "code",
   "execution_count": 10,
   "id": "453983b5",
   "metadata": {},
   "outputs": [],
   "source": [
    "def function_name():\n",
    "    pass"
   ]
  },
  {
   "cell_type": "markdown",
   "id": "77f3b8ed",
   "metadata": {},
   "source": [
    "Q.6. What is the operation of this special character ‘\\’?\n",
    "- Ans:\n",
    "We use ‘\\’ as a Escape charactor below are the some of the example"
   ]
  },
  {
   "cell_type": "code",
   "execution_count": 12,
   "id": "56a676fc",
   "metadata": {},
   "outputs": [
    {
     "name": "stdout",
     "output_type": "stream",
     "text": [
      "Designation: \"Project Lead\"\n"
     ]
    }
   ],
   "source": [
    "# print(\"Designation: \"Project Lead\"\")\n",
    "# SyntaxError: invalid syntax. Perhaps you forgot a comma?\n",
    "\n",
    "#To overcome the above error\n",
    "print(\"Designation: \\\"Project Lead\\\"\")"
   ]
  },
  {
   "cell_type": "markdown",
   "id": "7bb75450",
   "metadata": {},
   "source": [
    "Q.7. Give an example of the following conditions:\n",
    " - (i) Homogeneous list\n",
    "- (ii) Heterogeneous set\n",
    "- (iii) Homogeneous tuple\n"
   ]
  },
  {
   "cell_type": "markdown",
   "id": "606de3c2",
   "metadata": {},
   "source": [
    "### (i) Homogeneous list\n",
    "- In Homogeneous list All the items are of same type"
   ]
  },
  {
   "cell_type": "code",
   "execution_count": 13,
   "id": "9b6e0f6a",
   "metadata": {},
   "outputs": [
    {
     "data": {
      "text/plain": [
       "[1, 2, 3, 4, 5, 6, 7, 8]"
      ]
     },
     "execution_count": 13,
     "metadata": {},
     "output_type": "execute_result"
    }
   ],
   "source": [
    "homogeneous_list = [1,2,3,4,5,6,7,8]\n",
    "homogeneous_list"
   ]
  },
  {
   "cell_type": "markdown",
   "id": "f3b27d95",
   "metadata": {},
   "source": [
    "### (ii) Heterogeneous set\n",
    "- In Heterogeneous set we will have multiple type"
   ]
  },
  {
   "cell_type": "code",
   "execution_count": 15,
   "id": "9b4b9697",
   "metadata": {},
   "outputs": [],
   "source": [
    "heterogeneous_set = {1,2,3,'a','b','c',(1,2,3)} "
   ]
  },
  {
   "cell_type": "code",
   "execution_count": 16,
   "id": "a334064e",
   "metadata": {},
   "outputs": [
    {
     "data": {
      "text/plain": [
       "{(1, 2, 3), 1, 2, 3, 'a', 'b', 'c'}"
      ]
     },
     "execution_count": 16,
     "metadata": {},
     "output_type": "execute_result"
    }
   ],
   "source": [
    "heterogeneous_set"
   ]
  },
  {
   "cell_type": "markdown",
   "id": "ea5a57c6",
   "metadata": {},
   "source": [
    "### (iii) Homogeneous tuple\n"
   ]
  },
  {
   "cell_type": "code",
   "execution_count": 18,
   "id": "52b152db",
   "metadata": {},
   "outputs": [
    {
     "data": {
      "text/plain": [
       "(1, 2, 3, 4)"
      ]
     },
     "execution_count": 18,
     "metadata": {},
     "output_type": "execute_result"
    }
   ],
   "source": [
    "homogeneous_tuple = (1,2,3,4)\n",
    "homogeneous_tuple"
   ]
  },
  {
   "cell_type": "markdown",
   "id": "fb5d4e8d",
   "metadata": {},
   "source": [
    "Q.8. Explain the mutable and immutable data types with proper explanation & examples."
   ]
  },
  {
   "cell_type": "markdown",
   "id": "8f5daddd",
   "metadata": {},
   "source": [
    "There are two type of data types Mutable and Immutable.\n",
    "- Mutable: mutable data types means we can change the value of the item like list\n",
    "        - List is  a mutable data type"
   ]
  },
  {
   "cell_type": "code",
   "execution_count": 20,
   "id": "ca553bf7",
   "metadata": {},
   "outputs": [
    {
     "name": "stdout",
     "output_type": "stream",
     "text": [
      "Orignal List:[1, 2, 3, 4, 5]\n",
      "changed the first item of List:[1.1, 2, 3, 4, 5]\n"
     ]
    }
   ],
   "source": [
    "# Example:\n",
    "lst = [1,2,3,4,5]\n",
    "print(f'Orignal List:{lst}')\n",
    "#Now i want to change the first item of the list then i can change by using assignment like below\n",
    "lst[0] = 1.1 \n",
    "print(f'changed the first item of List:{lst}')\n"
   ]
  },
  {
   "cell_type": "markdown",
   "id": "e85422b8",
   "metadata": {},
   "source": [
    "- Immutable: immutable data types means we can not change the value of the item like tuple, string\n",
    "        - Tuple is  a immutable data typeI"
   ]
  },
  {
   "cell_type": "code",
   "execution_count": 23,
   "id": "0f9c89f6",
   "metadata": {},
   "outputs": [
    {
     "name": "stdout",
     "output_type": "stream",
     "text": [
      "Orignal List:[1.1, 2, 3, 4, 5]\n"
     ]
    }
   ],
   "source": [
    "# Example:\n",
    "tup = (1,2,3,4,5)\n",
    "print(f'Orignal List:{lst}')\n",
    "#Now i want to change the first item of the tuple \n",
    "# tup[0] = 1.1  # TypeError: 'tuple' object does not support item assignmen\n",
    "# print(f'changed the first item of List:{lst}')"
   ]
  },
  {
   "cell_type": "markdown",
   "id": "75e3c08d",
   "metadata": {},
   "source": [
    "Q.9. Write a code to create the given structure using only for loop.\n",
    "     *\n",
    "    ***\n",
    "   *****\n",
    "  *******\n",
    " *********"
   ]
  },
  {
   "cell_type": "code",
   "execution_count": 37,
   "id": "51556415",
   "metadata": {},
   "outputs": [
    {
     "name": "stdout",
     "output_type": "stream",
     "text": [
      "     *\n",
      "    ***\n",
      "   *****\n",
      "  *******\n",
      " *********\n"
     ]
    }
   ],
   "source": [
    "s = 5\n",
    "for i in range(1,10,2):\n",
    "    s -= 1\n",
    "    print(' '*s,'*'*i)\n",
    "    "
   ]
  },
  {
   "cell_type": "markdown",
   "id": "360d00c3",
   "metadata": {},
   "source": [
    "\n",
    "Q.10. Write a code to create the given structure using while loop.\n",
    "|||||||||\n",
    "|||||||\n",
    "|||||\n",
    "|||\n"
   ]
  },
  {
   "cell_type": "code",
   "execution_count": 65,
   "id": "004044bf",
   "metadata": {},
   "outputs": [
    {
     "name": "stdout",
     "output_type": "stream",
     "text": [
      "  |||||||||||||\n",
      "   ||||||||||\n",
      "    |||||||\n",
      "     ||||\n",
      "      |\n"
     ]
    }
   ],
   "source": [
    "s = 0\n",
    "i = 13\n",
    "while i>=1:\n",
    "    s += 1\n",
    "    print(' '*s,'|'*i)\n",
    "    i -= 3"
   ]
  },
  {
   "cell_type": "code",
   "execution_count": null,
   "id": "d057f44e",
   "metadata": {},
   "outputs": [],
   "source": []
  }
 ],
 "metadata": {
  "kernelspec": {
   "display_name": "Python 3",
   "language": "python",
   "name": "python3"
  },
  "language_info": {
   "codemirror_mode": {
    "name": "ipython",
    "version": 3
   },
   "file_extension": ".py",
   "mimetype": "text/x-python",
   "name": "python",
   "nbconvert_exporter": "python",
   "pygments_lexer": "ipython3",
   "version": "3.10.18"
  }
 },
 "nbformat": 4,
 "nbformat_minor": 5
}
